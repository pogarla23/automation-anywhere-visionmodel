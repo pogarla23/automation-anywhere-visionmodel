{
 "cells": [
  {
   "cell_type": "code",
   "execution_count": 1,
   "id": "bd3d1742-36ff-4f69-9bb2-0d43702a4b7f",
   "metadata": {},
   "outputs": [],
   "source": [
    "import matplotlib.pyplot as plt\n",
    "import matplotlib.patches as patches\n",
    "from PIL import Image\n",
    "import xml.etree.ElementTree as ET\n",
    "import os\n",
    "from os import listdir\n",
    "import pandas as pd\n",
    "from sklearn.model_selection import train_test_split"
   ]
  },
  {
   "cell_type": "code",
   "execution_count": 2,
   "id": "20199c84-3fb7-4eba-836a-f2eca5c04ea4",
   "metadata": {},
   "outputs": [],
   "source": [
    "def annotated_image(name): \n",
    "    image_path = f\"signature_data/images/{name}.jpg\"\n",
    "    xml_path = f\"signature_data/annotations/{name}.xml\"\n",
    "    \n",
    "    image = Image.open(image_path)\n",
    "    \n",
    "    tree = ET.parse(xml_path)\n",
    "    root = tree.getroot()\n",
    "    fig, ax = plt.subplots(1, figsize=(15, 15))\n",
    "    ax.imshow(image)\n",
    "\n",
    "    boxes = [] #extracted bounding boxes\n",
    "    for obj in root.findall(\".//object\"):\n",
    "        xmin = int(obj.find(\".//bndbox/xmin\").text)\n",
    "        xmax = int(obj.find(\".//bndbox/xmax\").text)\n",
    "        ymin = int(obj.find(\".//bndbox/ymin\").text)\n",
    "        ymax = int(obj.find(\".//bndbox/ymax\").text)\n",
    "\n",
    "        boxes.append([xmin,xmax,ymin,ymax])\n",
    "        rect = patches.Rectangle((xmin, ymin), xmax - xmin, ymax - ymin, linewidth=.75, edgecolor='r', facecolor='none')\n",
    "        \n",
    "        ax.add_patch(rect)\n",
    "    #plt.show() #there for line below, uncomment to see result\n",
    "    plt.close(fig) #adding will allow image to close after viewing\n",
    "    return boxes\n",
    "\n",
    "\n",
    "#plt.show()"
   ]
  },
  {
   "cell_type": "markdown",
   "id": "c4c3e801-6e99-472b-82b1-c453e7451eb0",
   "metadata": {},
   "source": [
    "### Note\n",
    "uncomment plt.show, run the line below, comment plt.show(), then run line to view image "
   ]
  },
  {
   "cell_type": "code",
   "execution_count": 3,
   "id": "4fdad3a3-0af6-4f6f-984f-fd7a938d01a5",
   "metadata": {},
   "outputs": [
    {
     "data": {
      "text/plain": [
       "[[160, 507, 1363, 1465],\n",
       " [943, 1443, 1659, 1758],\n",
       " [105, 697, 1754, 1893],\n",
       " [845, 1490, 1766, 1930],\n",
       " [195, 760, 1841, 2045],\n",
       " [981, 1506, 1869, 2050]]"
      ]
     },
     "execution_count": 3,
     "metadata": {},
     "output_type": "execute_result"
    }
   ],
   "source": [
    "annotated_image(\"chicago_108.pdf_2\")"
   ]
  },
  {
   "cell_type": "code",
   "execution_count": 4,
   "id": "7853b0b3-ae4f-4a6b-b4be-ae2f1b4d5c50",
   "metadata": {},
   "outputs": [],
   "source": [
    "folder_dir = \"signature_data/\"\n",
    "image_data = []\n",
    "image_names = []"
   ]
  },
  {
   "cell_type": "code",
   "execution_count": 5,
   "id": "d0093194-e150-4324-bf33-abd8e1b78024",
   "metadata": {
    "scrolled": true
   },
   "outputs": [],
   "source": [
    "for filename in os.listdir(os.path.join(folder_dir, 'images')): #in case of using a different directory. \n",
    "    if filename.endswith('.jpg'):\n",
    "        image_name, _ = os.path.splitext(filename)  # Removes .jpg\n",
    "        image_names.append(image_name)"
   ]
  },
  {
   "cell_type": "code",
   "execution_count": 6,
   "id": "d143d4e9-d85c-4b97-b452-cf63b1a52cef",
   "metadata": {
    "scrolled": true
   },
   "outputs": [
    {
     "data": {
      "text/plain": [
       "['chicago_108.pdf_2',\n",
       " 'chicago_108.pdf_4',\n",
       " 'chicago_109.pdf_2',\n",
       " 'chicago_109.pdf_33',\n",
       " 'chicago_109.pdf_41',\n",
       " 'chicago_109.pdf_46',\n",
       " 'chicago_109.pdf_48',\n",
       " 'chicago_109.pdf_49',\n",
       " 'chicago_109.pdf_50',\n",
       " 'chicago_118.pdf_2']"
      ]
     },
     "execution_count": 6,
     "metadata": {},
     "output_type": "execute_result"
    }
   ],
   "source": [
    "image_names[:10]   #stores names"
   ]
  },
  {
   "cell_type": "code",
   "execution_count": 7,
   "id": "bf3ed1cd-ee63-4320-b4d4-41ee9bbedcb4",
   "metadata": {},
   "outputs": [],
   "source": [
    "import time"
   ]
  },
  {
   "cell_type": "markdown",
   "id": "bf5934a8-a19e-44f9-9d2f-46e0c9d2e1e9",
   "metadata": {},
   "source": [
    "### Plan\n",
    "- first create a dictionary of bounding boxes (all of them in all images)\n",
    "- iterate through image_names --> find the bounding boxes using the annotated image function\n",
    "- store it in b_boxes, where each row will contain a bounding box to some image"
   ]
  },
  {
   "cell_type": "markdown",
   "id": "b048f32d-a0c7-4ff7-89ff-5295aef16d8b",
   "metadata": {},
   "source": [
    "**Line below will take a (7-10min)"
   ]
  },
  {
   "cell_type": "code",
   "execution_count": 8,
   "id": "a90657b1-33bb-4e9f-ba6b-a5994d9f0e9d",
   "metadata": {},
   "outputs": [
    {
     "data": {
      "text/plain": [
       "3486.161466360092"
      ]
     },
     "execution_count": 8,
     "metadata": {},
     "output_type": "execute_result"
    }
   ],
   "source": [
    "b_boxes = {}\n",
    "\n",
    "start = time.time()\n",
    "for name in image_names:  #append those anntated bounding boxes into the images \n",
    "    b_boxes[name] = annotated_image(name)\n",
    "end = time.time()\n",
    "\n",
    "total_time = end - start\n",
    "total_time"
   ]
  },
  {
   "cell_type": "markdown",
   "id": "816feb33-a30e-4f67-afad-bab371c64074",
   "metadata": {},
   "source": [
    "## Options of DataFrame\n",
    "\n",
    "** Discuss with team with is preferred before cleaning "
   ]
  },
  {
   "cell_type": "markdown",
   "id": "23e97cd5-0975-4064-83ce-cbcaea4ce339",
   "metadata": {},
   "source": [
    "#### Option 1"
   ]
  },
  {
   "cell_type": "code",
   "execution_count": 51,
   "id": "553365e2-3979-4aad-b9bf-2da22674041a",
   "metadata": {},
   "outputs": [],
   "source": [
    "df1 = pd.DataFrame(\n",
    "    {\n",
    "        'image_name': list(b_boxes.keys()),\n",
    "        'bounding_boxes': list(b_boxes.values())\n",
    "    }\n",
    ")"
   ]
  },
  {
   "cell_type": "markdown",
   "id": "365d749b-8013-4066-98bd-5df935af22c5",
   "metadata": {},
   "source": [
    "#### Option 2"
   ]
  },
  {
   "cell_type": "code",
   "execution_count": 57,
   "id": "948911be-bbdf-4188-808e-c27eb9d5ca5c",
   "metadata": {},
   "outputs": [
    {
     "ename": "KeyError",
     "evalue": "0",
     "output_type": "error",
     "traceback": [
      "\u001b[1;31m---------------------------------------------------------------------------\u001b[0m",
      "\u001b[1;31mKeyError\u001b[0m                                  Traceback (most recent call last)",
      "Cell \u001b[1;32mIn[57], line 2\u001b[0m\n\u001b[0;32m      1\u001b[0m \u001b[38;5;28;01mfor\u001b[39;00m name, boxes \u001b[38;5;129;01min\u001b[39;00m b_boxes\u001b[38;5;241m.\u001b[39mitems():\n\u001b[1;32m----> 2\u001b[0m     image_data\u001b[38;5;241m.\u001b[39mextend(\n\u001b[0;32m      3\u001b[0m         {\u001b[38;5;124m'\u001b[39m\u001b[38;5;124mimage_name\u001b[39m\u001b[38;5;124m'\u001b[39m: name, \u001b[38;5;124m'\u001b[39m\u001b[38;5;124mxmin\u001b[39m\u001b[38;5;124m'\u001b[39m: box[\u001b[38;5;241m0\u001b[39m], \u001b[38;5;124m'\u001b[39m\u001b[38;5;124mymin\u001b[39m\u001b[38;5;124m'\u001b[39m: box[\u001b[38;5;241m1\u001b[39m], \u001b[38;5;124m'\u001b[39m\u001b[38;5;124mxmax\u001b[39m\u001b[38;5;124m'\u001b[39m: box[\u001b[38;5;241m2\u001b[39m], \u001b[38;5;124m'\u001b[39m\u001b[38;5;124mymax\u001b[39m\u001b[38;5;124m'\u001b[39m: box[\u001b[38;5;241m3\u001b[39m]}\n\u001b[0;32m      4\u001b[0m         \u001b[38;5;28;01mfor\u001b[39;00m box \u001b[38;5;129;01min\u001b[39;00m boxes\n\u001b[0;32m      5\u001b[0m     )\n",
      "Cell \u001b[1;32mIn[57], line 3\u001b[0m, in \u001b[0;36m<genexpr>\u001b[1;34m(.0)\u001b[0m\n\u001b[0;32m      1\u001b[0m \u001b[38;5;28;01mfor\u001b[39;00m name, boxes \u001b[38;5;129;01min\u001b[39;00m b_boxes\u001b[38;5;241m.\u001b[39mitems():\n\u001b[0;32m      2\u001b[0m     image_data\u001b[38;5;241m.\u001b[39mextend(\n\u001b[1;32m----> 3\u001b[0m         {\u001b[38;5;124m'\u001b[39m\u001b[38;5;124mimage_name\u001b[39m\u001b[38;5;124m'\u001b[39m: name, \u001b[38;5;124m'\u001b[39m\u001b[38;5;124mxmin\u001b[39m\u001b[38;5;124m'\u001b[39m: box[\u001b[38;5;241m0\u001b[39m], \u001b[38;5;124m'\u001b[39m\u001b[38;5;124mymin\u001b[39m\u001b[38;5;124m'\u001b[39m: box[\u001b[38;5;241m1\u001b[39m], \u001b[38;5;124m'\u001b[39m\u001b[38;5;124mxmax\u001b[39m\u001b[38;5;124m'\u001b[39m: box[\u001b[38;5;241m2\u001b[39m], \u001b[38;5;124m'\u001b[39m\u001b[38;5;124mymax\u001b[39m\u001b[38;5;124m'\u001b[39m: box[\u001b[38;5;241m3\u001b[39m]}\n\u001b[0;32m      4\u001b[0m         \u001b[38;5;28;01mfor\u001b[39;00m box \u001b[38;5;129;01min\u001b[39;00m boxes\n\u001b[0;32m      5\u001b[0m     )\n",
      "\u001b[1;31mKeyError\u001b[0m: 0"
     ]
    }
   ],
   "source": [
    "for name, boxes in b_boxes.items():\n",
    "    image_data.extend(\n",
    "        {'image_name': name, 'xmin': box[0], 'ymin': box[1], 'xmax': box[2], 'ymax': box[3]}\n",
    "        for box in boxes\n",
    "    )\n"
   ]
  },
  {
   "cell_type": "code",
   "execution_count": 15,
   "id": "94529832-3102-415a-b9be-36dfe9d34fa8",
   "metadata": {},
   "outputs": [],
   "source": [
    "df = pd.DataFrame(image_data)"
   ]
  },
  {
   "cell_type": "markdown",
   "id": "1e2ea8e4-c14a-4b7b-a76a-ba4ca0ff82aa",
   "metadata": {},
   "source": [
    "## Note\n",
    "#### stores image name and coordinates of bounding boxes, helps with image coordination.\n",
    "\n",
    "<bold> ex) chicago_108.pdf_2  <bold>\n",
    "- has around 6 bounding boxes, stores that coordinates pertaining to those\n",
    "- treating each bounding box as it's individual row. \n",
    "*** can talk with team regarding storing it "
   ]
  },
  {
   "cell_type": "code",
   "execution_count": 27,
   "id": "7ff7a3dc-bfb1-419c-bed6-b0ddda65e679",
   "metadata": {
    "scrolled": true
   },
   "outputs": [
    {
     "data": {
      "text/html": [
       "<div>\n",
       "<style scoped>\n",
       "    .dataframe tbody tr th:only-of-type {\n",
       "        vertical-align: middle;\n",
       "    }\n",
       "\n",
       "    .dataframe tbody tr th {\n",
       "        vertical-align: top;\n",
       "    }\n",
       "\n",
       "    .dataframe thead th {\n",
       "        text-align: right;\n",
       "    }\n",
       "</style>\n",
       "<table border=\"1\" class=\"dataframe\">\n",
       "  <thead>\n",
       "    <tr style=\"text-align: right;\">\n",
       "      <th></th>\n",
       "      <th>image_name</th>\n",
       "      <th>xmin</th>\n",
       "      <th>ymin</th>\n",
       "      <th>xmax</th>\n",
       "      <th>ymax</th>\n",
       "    </tr>\n",
       "  </thead>\n",
       "  <tbody>\n",
       "    <tr>\n",
       "      <th>0</th>\n",
       "      <td>chicago_108.pdf_2</td>\n",
       "      <td>160</td>\n",
       "      <td>507</td>\n",
       "      <td>1363</td>\n",
       "      <td>1465</td>\n",
       "    </tr>\n",
       "    <tr>\n",
       "      <th>1</th>\n",
       "      <td>chicago_108.pdf_2</td>\n",
       "      <td>943</td>\n",
       "      <td>1443</td>\n",
       "      <td>1659</td>\n",
       "      <td>1758</td>\n",
       "    </tr>\n",
       "    <tr>\n",
       "      <th>2</th>\n",
       "      <td>chicago_108.pdf_2</td>\n",
       "      <td>105</td>\n",
       "      <td>697</td>\n",
       "      <td>1754</td>\n",
       "      <td>1893</td>\n",
       "    </tr>\n",
       "    <tr>\n",
       "      <th>3</th>\n",
       "      <td>chicago_108.pdf_2</td>\n",
       "      <td>845</td>\n",
       "      <td>1490</td>\n",
       "      <td>1766</td>\n",
       "      <td>1930</td>\n",
       "    </tr>\n",
       "    <tr>\n",
       "      <th>4</th>\n",
       "      <td>chicago_108.pdf_2</td>\n",
       "      <td>195</td>\n",
       "      <td>760</td>\n",
       "      <td>1841</td>\n",
       "      <td>2045</td>\n",
       "    </tr>\n",
       "    <tr>\n",
       "      <th>5</th>\n",
       "      <td>chicago_108.pdf_2</td>\n",
       "      <td>981</td>\n",
       "      <td>1506</td>\n",
       "      <td>1869</td>\n",
       "      <td>2050</td>\n",
       "    </tr>\n",
       "    <tr>\n",
       "      <th>6</th>\n",
       "      <td>chicago_108.pdf_4</td>\n",
       "      <td>353</td>\n",
       "      <td>681</td>\n",
       "      <td>935</td>\n",
       "      <td>1174</td>\n",
       "    </tr>\n",
       "    <tr>\n",
       "      <th>7</th>\n",
       "      <td>chicago_108.pdf_4</td>\n",
       "      <td>122</td>\n",
       "      <td>872</td>\n",
       "      <td>1542</td>\n",
       "      <td>1677</td>\n",
       "    </tr>\n",
       "    <tr>\n",
       "      <th>8</th>\n",
       "      <td>chicago_109.pdf_2</td>\n",
       "      <td>1254</td>\n",
       "      <td>1420</td>\n",
       "      <td>143</td>\n",
       "      <td>210</td>\n",
       "    </tr>\n",
       "    <tr>\n",
       "      <th>9</th>\n",
       "      <td>chicago_109.pdf_33</td>\n",
       "      <td>178</td>\n",
       "      <td>667</td>\n",
       "      <td>1589</td>\n",
       "      <td>1713</td>\n",
       "    </tr>\n",
       "    <tr>\n",
       "      <th>10</th>\n",
       "      <td>chicago_109.pdf_41</td>\n",
       "      <td>634</td>\n",
       "      <td>719</td>\n",
       "      <td>1642</td>\n",
       "      <td>1673</td>\n",
       "    </tr>\n",
       "    <tr>\n",
       "      <th>11</th>\n",
       "      <td>chicago_109.pdf_46</td>\n",
       "      <td>1086</td>\n",
       "      <td>1468</td>\n",
       "      <td>1996</td>\n",
       "      <td>2091</td>\n",
       "    </tr>\n",
       "    <tr>\n",
       "      <th>12</th>\n",
       "      <td>chicago_109.pdf_48</td>\n",
       "      <td>784</td>\n",
       "      <td>1285</td>\n",
       "      <td>1107</td>\n",
       "      <td>1254</td>\n",
       "    </tr>\n",
       "    <tr>\n",
       "      <th>13</th>\n",
       "      <td>chicago_109.pdf_48</td>\n",
       "      <td>794</td>\n",
       "      <td>1358</td>\n",
       "      <td>1598</td>\n",
       "      <td>1816</td>\n",
       "    </tr>\n",
       "    <tr>\n",
       "      <th>14</th>\n",
       "      <td>chicago_109.pdf_49</td>\n",
       "      <td>931</td>\n",
       "      <td>1363</td>\n",
       "      <td>1961</td>\n",
       "      <td>2151</td>\n",
       "    </tr>\n",
       "    <tr>\n",
       "      <th>15</th>\n",
       "      <td>chicago_109.pdf_50</td>\n",
       "      <td>876</td>\n",
       "      <td>1294</td>\n",
       "      <td>753</td>\n",
       "      <td>870</td>\n",
       "    </tr>\n",
       "    <tr>\n",
       "      <th>16</th>\n",
       "      <td>chicago_109.pdf_50</td>\n",
       "      <td>743</td>\n",
       "      <td>1444</td>\n",
       "      <td>888</td>\n",
       "      <td>1019</td>\n",
       "    </tr>\n",
       "    <tr>\n",
       "      <th>17</th>\n",
       "      <td>chicago_109.pdf_50</td>\n",
       "      <td>131</td>\n",
       "      <td>657</td>\n",
       "      <td>1057</td>\n",
       "      <td>1213</td>\n",
       "    </tr>\n",
       "    <tr>\n",
       "      <th>18</th>\n",
       "      <td>chicago_109.pdf_50</td>\n",
       "      <td>97</td>\n",
       "      <td>717</td>\n",
       "      <td>1540</td>\n",
       "      <td>1687</td>\n",
       "    </tr>\n",
       "    <tr>\n",
       "      <th>19</th>\n",
       "      <td>chicago_118.pdf_2</td>\n",
       "      <td>231</td>\n",
       "      <td>408</td>\n",
       "      <td>1074</td>\n",
       "      <td>1105</td>\n",
       "    </tr>\n",
       "  </tbody>\n",
       "</table>\n",
       "</div>"
      ],
      "text/plain": [
       "            image_name  xmin  ymin  xmax  ymax\n",
       "0    chicago_108.pdf_2   160   507  1363  1465\n",
       "1    chicago_108.pdf_2   943  1443  1659  1758\n",
       "2    chicago_108.pdf_2   105   697  1754  1893\n",
       "3    chicago_108.pdf_2   845  1490  1766  1930\n",
       "4    chicago_108.pdf_2   195   760  1841  2045\n",
       "5    chicago_108.pdf_2   981  1506  1869  2050\n",
       "6    chicago_108.pdf_4   353   681   935  1174\n",
       "7    chicago_108.pdf_4   122   872  1542  1677\n",
       "8    chicago_109.pdf_2  1254  1420   143   210\n",
       "9   chicago_109.pdf_33   178   667  1589  1713\n",
       "10  chicago_109.pdf_41   634   719  1642  1673\n",
       "11  chicago_109.pdf_46  1086  1468  1996  2091\n",
       "12  chicago_109.pdf_48   784  1285  1107  1254\n",
       "13  chicago_109.pdf_48   794  1358  1598  1816\n",
       "14  chicago_109.pdf_49   931  1363  1961  2151\n",
       "15  chicago_109.pdf_50   876  1294   753   870\n",
       "16  chicago_109.pdf_50   743  1444   888  1019\n",
       "17  chicago_109.pdf_50   131   657  1057  1213\n",
       "18  chicago_109.pdf_50    97   717  1540  1687\n",
       "19   chicago_118.pdf_2   231   408  1074  1105"
      ]
     },
     "execution_count": 27,
     "metadata": {},
     "output_type": "execute_result"
    }
   ],
   "source": [
    "df.head(20)  "
   ]
  },
  {
   "cell_type": "code",
   "execution_count": 30,
   "id": "541ad1c3-5c3a-433e-8c26-676549b91432",
   "metadata": {},
   "outputs": [
    {
     "data": {
      "text/html": [
       "<div>\n",
       "<style scoped>\n",
       "    .dataframe tbody tr th:only-of-type {\n",
       "        vertical-align: middle;\n",
       "    }\n",
       "\n",
       "    .dataframe tbody tr th {\n",
       "        vertical-align: top;\n",
       "    }\n",
       "\n",
       "    .dataframe thead th {\n",
       "        text-align: right;\n",
       "    }\n",
       "</style>\n",
       "<table border=\"1\" class=\"dataframe\">\n",
       "  <thead>\n",
       "    <tr style=\"text-align: right;\">\n",
       "      <th></th>\n",
       "      <th>image_name</th>\n",
       "      <th>bounding_boxes</th>\n",
       "    </tr>\n",
       "  </thead>\n",
       "  <tbody>\n",
       "    <tr>\n",
       "      <th>0</th>\n",
       "      <td>chicago_108.pdf_2</td>\n",
       "      <td>[[160, 507, 1363, 1465], [943, 1443, 1659, 175...</td>\n",
       "    </tr>\n",
       "    <tr>\n",
       "      <th>1</th>\n",
       "      <td>chicago_108.pdf_4</td>\n",
       "      <td>[[353, 681, 935, 1174], [122, 872, 1542, 1677]]</td>\n",
       "    </tr>\n",
       "    <tr>\n",
       "      <th>2</th>\n",
       "      <td>chicago_109.pdf_2</td>\n",
       "      <td>[[1254, 1420, 143, 210]]</td>\n",
       "    </tr>\n",
       "    <tr>\n",
       "      <th>3</th>\n",
       "      <td>chicago_109.pdf_33</td>\n",
       "      <td>[[178, 667, 1589, 1713]]</td>\n",
       "    </tr>\n",
       "    <tr>\n",
       "      <th>4</th>\n",
       "      <td>chicago_109.pdf_41</td>\n",
       "      <td>[[634, 719, 1642, 1673]]</td>\n",
       "    </tr>\n",
       "  </tbody>\n",
       "</table>\n",
       "</div>"
      ],
      "text/plain": [
       "           image_name                                     bounding_boxes\n",
       "0   chicago_108.pdf_2  [[160, 507, 1363, 1465], [943, 1443, 1659, 175...\n",
       "1   chicago_108.pdf_4    [[353, 681, 935, 1174], [122, 872, 1542, 1677]]\n",
       "2   chicago_109.pdf_2                           [[1254, 1420, 143, 210]]\n",
       "3  chicago_109.pdf_33                           [[178, 667, 1589, 1713]]\n",
       "4  chicago_109.pdf_41                           [[634, 719, 1642, 1673]]"
      ]
     },
     "execution_count": 30,
     "metadata": {},
     "output_type": "execute_result"
    }
   ],
   "source": [
    "df1.head()"
   ]
  },
  {
   "cell_type": "code",
   "execution_count": 31,
   "id": "82cfed13-6f57-4c95-9b42-1292ced3ae27",
   "metadata": {},
   "outputs": [
    {
     "data": {
      "text/plain": [
       "3328"
      ]
     },
     "execution_count": 31,
     "metadata": {},
     "output_type": "execute_result"
    }
   ],
   "source": [
    "df[\"image_name\"].size   #including the bounding boxes"
   ]
  },
  {
   "cell_type": "code",
   "execution_count": 32,
   "id": "e84fdf63-fbf2-4f50-be7b-b230c06c829c",
   "metadata": {},
   "outputs": [
    {
     "data": {
      "text/plain": [
       "2058"
      ]
     },
     "execution_count": 32,
     "metadata": {},
     "output_type": "execute_result"
    }
   ],
   "source": [
    "df[\"image_name\"].nunique()  #total size of image dataset"
   ]
  },
  {
   "cell_type": "code",
   "execution_count": 33,
   "id": "402c050d-d6bd-4ccc-aa2b-da69d89d6480",
   "metadata": {},
   "outputs": [
    {
     "data": {
      "text/plain": [
       "2058"
      ]
     },
     "execution_count": 33,
     "metadata": {},
     "output_type": "execute_result"
    }
   ],
   "source": [
    "df1[\"image_name\"].size #same as nunique"
   ]
  },
  {
   "cell_type": "code",
   "execution_count": 34,
   "id": "e7d2776a-8a8b-4ad2-8195-3ce874d2a42b",
   "metadata": {},
   "outputs": [
    {
     "data": {
      "text/plain": [
       "(3328, 5)"
      ]
     },
     "execution_count": 34,
     "metadata": {},
     "output_type": "execute_result"
    }
   ],
   "source": [
    "df.shape"
   ]
  },
  {
   "cell_type": "code",
   "execution_count": 35,
   "id": "6cfdf1ca-7db9-4a5a-8605-51ff2120b272",
   "metadata": {},
   "outputs": [
    {
     "data": {
      "text/plain": [
       "(2058, 2)"
      ]
     },
     "execution_count": 35,
     "metadata": {},
     "output_type": "execute_result"
    }
   ],
   "source": [
    "df1.shape"
   ]
  },
  {
   "cell_type": "markdown",
   "id": "9d014e46-f912-46db-8880-d93c5049b9ce",
   "metadata": {},
   "source": [
    "### Note\n",
    "- splitting both test and train, then clean data. \n",
    "- provided the test data with bounding boxes, so when using those images without it, then compare\n",
    "- Image Size: Resizing images/ensure consistently resize the images and their corresponding bounding boxes."
   ]
  },
  {
   "cell_type": "code",
   "execution_count": 37,
   "id": "9c9286f4-ef0b-4a98-8fdb-1b8026fcfcd5",
   "metadata": {},
   "outputs": [],
   "source": [
    "X_train, X_test = train_test_split(df, test_size=0.4, random_state = 1234)   #need to discuss with team about right paramters"
   ]
  },
  {
   "cell_type": "code",
   "execution_count": 42,
   "id": "6dfd77cb-828f-4680-ae02-46d939128062",
   "metadata": {},
   "outputs": [],
   "source": [
    "X_train1, X_test1 = train_test_split(df1, test_size=0.4, random_state = 1234) # just there if we choose"
   ]
  },
  {
   "cell_type": "code",
   "execution_count": 38,
   "id": "7d809ae3-4fd7-471d-8067-79bf327b4a9a",
   "metadata": {},
   "outputs": [],
   "source": [
    "import cv2"
   ]
  },
  {
   "cell_type": "code",
   "execution_count": 39,
   "id": "66d53e45-8f5b-46a7-9b65-b75daf3b7e00",
   "metadata": {},
   "outputs": [],
   "source": [
    "# find the ratio of current image to current bounding box size, to proportional 224\n",
    "# resize each image, then perform this \n",
    "# so      xmin * image.width / 224 = new xmin      similar for xmax    AND  ymin, and ymax\n",
    "#check with team if this is their target size\n",
    "resized = (800, 600)  # Desired target size??\n",
    "new_boxes = [] #storing the new boxes that are scaled from the resized image\n",
    "image_data = {}  # Dictionary to store scaling factors for each image"
   ]
  },
  {
   "cell_type": "code",
   "execution_count": 40,
   "id": "7c7188cd-24b3-4d32-832e-724762b0c266",
   "metadata": {},
   "outputs": [
    {
     "data": {
      "image/png": "[encoded data removed]",
      "text/plain": [
       "<Figure size 640x480 with 1 Axes>"
      ]
     },
     "metadata": {},
     "output_type": "display_data"
    }
   ],
   "source": [
    "import matplotlib.image as mpimg\n",
    "\n",
    "# Load the image\n",
    "image_sizes = []\n",
    "image_names = df1['image_name'].unique()\n",
    "\n",
    "\n",
    "for image_name in image_names:\n",
    "    path = os.path.join(folder_dir, 'images', f\"{image_name}.jpg\")\n",
    "    image = mpimg.imread(path)\n",
    "\n",
    "    \n",
    "    height, width, = image.shape[:2]\n",
    "    image_sizes.append(height*width)\n",
    "\n",
    "max_image_size = max(image_sizes)\n",
    "\n",
    "# Normalize image sizes (so that max size is 1)\n",
    "normalized_sizes = [size / max_image_size for size in image_sizes]\n",
    "\n",
    "# Plot normalized image sizes\n",
    "plt.scatter(range(len(image_names)), normalized_sizes, color='blue')\n",
    "\n",
    "plt.xlabel(\"Index\")\n",
    "plt.ylabel(\"Image Size H*W (pixels\")\n",
    "plt.title(\"Image Sizes\")\n",
    "plt.show()"
   ]
  },
  {
   "cell_type": "code",
   "execution_count": 41,
   "id": "a8e1ff27-f4cd-4273-97f2-936525d5563e",
   "metadata": {},
   "outputs": [],
   "source": [
    "\n",
    "for image_name in df1['image_name']:\n",
    "    \n",
    "    image = cv2.imread(os.path.join(folder_dir, 'images', f\"{image_name}.jpg\"))   #read image path\n",
    "   \n",
    "    \n",
    "    og_height, og_width = image.shape[:2]\n",
    "    image = cv2.resize(image, resized)\n",
    "    height, width = image.shape[:2]\n",
    "\n",
    "    w_scaled = width / og_width\n",
    "    h_scaled = height / og_height\n",
    "\n",
    "    \n",
    "    image_data[image_name] = {  #store those resized paramters for bounding boxes\n",
    "        'image': image,\n",
    "        'w_scaled': w_scaled,\n",
    "        'h_scaled': h_scaled\n",
    "    }\n",
    "\n"
   ]
  },
  {
   "cell_type": "code",
   "execution_count": 44,
   "id": "333b9ce2-9c8c-4e62-983a-af5f012c3e34",
   "metadata": {},
   "outputs": [],
   "source": [
    "for _, row in df.iterrows():\n",
    "    image_name = row['image_name']               # Get the image name for the current row\n",
    "    \n",
    "    if image_name in image_data:        #check if it's in current image dictionary\n",
    "        w_scaled = image_data[image_name]['w_scaled']   #take the scaled width/height\n",
    "        h_scaled = image_data[image_name]['h_scaled']\n",
    "        \n",
    "        boxes.append({'image_name': image_name,    #store resized bounding boxes\n",
    "                      'xmin': int(row['xmin'] * w_scaled),\n",
    "                      'ymin':int(row['ymin'] * h_scaled),\n",
    "                      'xmax':int(row['xmax'] * w_scaled),\n",
    "                      'ymax': int(row['ymax'] * h_scaled)})\n"
   ]
  },
  {
   "cell_type": "code",
   "execution_count": 48,
   "id": "476bb2c6-6d87-4654-8d98-a3a157e6f845",
   "metadata": {},
   "outputs": [
    {
     "data": {
      "text/plain": [
       "-1"
      ]
     },
     "execution_count": 48,
     "metadata": {},
     "output_type": "execute_result"
    }
   ],
   "source": [
    "# Display the first original and resized image to check scaling\n",
    "first_image_name = df['image_name'].unique()[0]\n",
    "resized_image = image_data[first_image_name]['image']\n",
    "\n",
    "cv2.imshow(\"Resized Image\", resized_image)\n",
    "cv2.waitKey(0)"
   ]
  },
  {
   "cell_type": "code",
   "execution_count": null,
   "id": "3516deaa-c014-4ad2-ac48-20abd4212c4f",
   "metadata": {},
   "outputs": [],
   "source": []
  },
  {
   "cell_type": "code",
   "execution_count": null,
   "id": "59a55794-5ed8-4f11-aaa6-55d053a56f3d",
   "metadata": {},
   "outputs": [],
   "source": []
  },
  {
   "cell_type": "markdown",
   "id": "880feaf1-c0bb-49d4-9fc4-f34ceac5f905",
   "metadata": {},
   "source": [
    "#### References for Filtering Methods\n",
    "- <a href=\"https://docs.opencv.org/4.5.4/d7/d4d/tutorial_py_thresholding.html\">Otsu's Binarization</a>\n",
    "- <a href=\"\"></a>\n"
   ]
  },
  {
   "cell_type": "code",
   "execution_count": null,
   "id": "852450ac-4302-4679-a487-f06e8d415325",
   "metadata": {},
   "outputs": [],
   "source": []
  },
  {
   "cell_type": "code",
   "execution_count": null,
   "id": "d5867375-6278-4b83-93e7-9b3629c85c19",
   "metadata": {},
   "outputs": [],
   "source": []
  },
  {
   "cell_type": "code",
   "execution_count": null,
   "id": "48812f2c-01ed-4512-8018-91df28fc07ec",
   "metadata": {},
   "outputs": [],
   "source": []
  }
 ],
 "metadata": {
  "kernelspec": {
   "display_name": "Python 3 (ipykernel)",
   "language": "python",
   "name": "python3"
  },
  "language_info": {
   "codemirror_mode": {
    "name": "ipython",
    "version": 3
   },
   "file_extension": ".py",
   "mimetype": "text/x-python",
   "name": "python",
   "nbconvert_exporter": "python",
   "pygments_lexer": "ipython3",
   "version": "3.11.7"
  }
 },
 "nbformat": 4,
 "nbformat_minor": 5
}
